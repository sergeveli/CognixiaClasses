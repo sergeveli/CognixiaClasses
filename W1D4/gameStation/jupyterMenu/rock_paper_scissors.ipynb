{
 "cells": [
  {
   "cell_type": "code",
   "execution_count": null,
   "metadata": {},
   "outputs": [],
   "source": [
    "import random\n",
    "\n",
    "# Define the game options\n",
    "options = [\"rock\", \"paper\", \"scissors\"]\n",
    "\n",
    "# Define a function to prompt the user for input\n",
    "\n",
    "\n",
    "def prompt_input(prompt):\n",
    "    return input(prompt).strip()\n",
    "\n",
    "# Define a function to play the game\n",
    "\n",
    "\n",
    "def play_game():\n",
    "    # Load the game progress from the log file\n",
    "    progress = {\"wins\": 0, \"losses\": 0, \"ties\": 0}\n",
    "    # Play the game until the user decides to quit\n",
    "    while True:\n",
    "        # Display the current game progress\n",
    "        print(\n",
    "            f\"Wins: {progress['wins']}, Losses: {progress['losses']}, Ties: {progress['ties']}\")\n",
    "        # Prompt the user for input\n",
    "        user_choice = prompt_input(\n",
    "            \"Enter rock, paper, or scissors (or q to quit): \")\n",
    "        if user_choice.lower() == \"q\":\n",
    "            break\n",
    "        # Choose a random option for the computer\n",
    "        computer_choice = random.choice(options)\n",
    "        # Determine the winner of the game\n",
    "        if user_choice.lower() == computer_choice:\n",
    "            print(\"Tie!\")\n",
    "            progress[\"ties\"] += 1\n",
    "        elif user_choice.lower() == \"rock\" and computer_choice == \"scissors\":\n",
    "            print(\"You win!\")\n",
    "            progress[\"wins\"] += 1\n",
    "        elif user_choice.lower() == \"paper\" and computer_choice == \"rock\":\n",
    "            print(\"You win!\")\n",
    "            progress[\"wins\"] += 1\n",
    "        elif user_choice.lower() == \"scissors\" and computer_choice == \"paper\":\n",
    "            print(\"You win!\")\n",
    "            progress[\"wins\"] += 1\n",
    "        else:\n",
    "            print(\"Computer wins!\")\n",
    "            progress[\"losses\"] += 1\n",
    "    # Return the game progress\n",
    "    return progress\n"
   ]
  }
 ],
 "metadata": {
  "language_info": {
   "name": "python"
  },
  "orig_nbformat": 4
 },
 "nbformat": 4,
 "nbformat_minor": 2
}
