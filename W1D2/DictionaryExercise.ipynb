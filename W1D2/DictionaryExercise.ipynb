{
 "cells": [
  {
   "cell_type": "code",
   "execution_count": 3,
   "metadata": {},
   "outputs": [
    {
     "name": "stdout",
     "output_type": "stream",
     "text": [
      "Name: Veli\n",
      "Age: 32\n",
      "Years Coding: 2\n",
      "First Programming Languages: ('Ruby', 'React', 'Python')\n",
      "Favorite Programming Languages: ['Javascript', 'React', 'C+']\n",
      "Intersection of First and Favorite Programming Languages: {'React'}\n"
     ]
    }
   ],
   "source": [
    "# Prompt the user for their name, age, and years coding\n",
    "name = input(\"What is your name? \")\n",
    "age = int(input(\"What is your age? \"))\n",
    "years_coding = int(input(\"How many years have you been coding? \"))\n",
    "\n",
    "# Prompt the user for their first three programming languages\n",
    "first_prog_langs = tuple(input(\n",
    "    \"Enter your first three programming languages, separated by commas: \").split(\", \"))\n",
    "\n",
    "# Prompt the user for their three favorite programming languages\n",
    "fav_prog_langs = input(\n",
    "    \"Enter your three favorite programming languages, separated by commas: \").split(\", \")\n",
    "\n",
    "# Create a set that is an intersection of their first programming languages and their favorite programming languages\n",
    "prog_langs_intersection = set(first_prog_langs) & set(fav_prog_langs)\n",
    "\n",
    "# Create a dictionary with the collected data\n",
    "data = {\n",
    "    'name': name,\n",
    "    'age': age,\n",
    "    'years_coding': years_coding,\n",
    "    'first_prog_langs': first_prog_langs,\n",
    "    'fav_prog_langs': fav_prog_langs,\n",
    "    'prog_langs_intersection': prog_langs_intersection\n",
    "}\n",
    "\n",
    "# Format a print statement to print the relevant data to the console\n",
    "print(f\"Name: {data['name']}\\nAge: {data['age']}\\nYears Coding: {data['years_coding']}\\n\"\n",
    "      f\"First Programming Languages: {data['first_prog_langs']}\\n\"\n",
    "      f\"Favorite Programming Languages: {data['fav_prog_langs']}\\n\"\n",
    "      f\"Intersection of First and Favorite Programming Languages: {data['prog_langs_intersection']}\")\n"
   ]
  }
 ],
 "metadata": {
  "kernelspec": {
   "display_name": "Python 3",
   "language": "python",
   "name": "python3"
  },
  "language_info": {
   "codemirror_mode": {
    "name": "ipython",
    "version": 3
   },
   "file_extension": ".py",
   "mimetype": "text/x-python",
   "name": "python",
   "nbconvert_exporter": "python",
   "pygments_lexer": "ipython3",
   "version": "3.9.1"
  },
  "orig_nbformat": 4
 },
 "nbformat": 4,
 "nbformat_minor": 2
}
