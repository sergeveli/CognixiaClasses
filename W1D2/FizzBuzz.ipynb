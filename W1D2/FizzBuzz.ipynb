{
 "cells": [
  {
   "cell_type": "code",
   "execution_count": 4,
   "metadata": {},
   "outputs": [
    {
     "name": "stdout",
     "output_type": "stream",
     "text": [
      "1\n",
      "2\n",
      "Fizz\n",
      "4\n",
      "Buzz\n",
      "Fizz\n",
      "7\n",
      "8\n",
      "Fizz\n",
      "Buzz\n",
      "11\n",
      "Fizz\n",
      "13\n",
      "14\n",
      "Fizzbuzz\n",
      "16\n",
      "17\n",
      "Fizz\n",
      "19\n",
      "Count of Fizz:  5\n",
      "Count of Buzz:  2\n",
      "Count of Fizzbuzz:  1\n",
      "Sum of integers:  112\n"
     ]
    }
   ],
   "source": [
    "num = int(input(\"Enter a number: \"))\n",
    "lst = []\n",
    "count_fizz = count_buzz = count_fizzbuzz = sum_integers = 0\n",
    "\n",
    "for i in range(1, num):\n",
    "    if i % 3 == 0 and i % 5 == 0:\n",
    "        lst.append(\"Fizzbuzz\")\n",
    "        count_fizzbuzz += 1\n",
    "    elif i % 3 == 0:\n",
    "        lst.append(\"Fizz\")\n",
    "        count_fizz += 1\n",
    "    elif i % 5 == 0:\n",
    "        lst.append(\"Buzz\")\n",
    "        count_buzz += 1\n",
    "    else:\n",
    "        lst.append(i)\n",
    "        sum_integers += i\n",
    "\n",
    "for i in lst:\n",
    "    print(i)\n",
    "\n",
    "print(\"Count of Fizz: \", count_fizz)\n",
    "print(\"Count of Buzz: \", count_buzz)\n",
    "print(\"Count of Fizzbuzz: \", count_fizzbuzz)\n",
    "print(\"Sum of integers: \", sum_integers)\n"
   ]
  }
 ],
 "metadata": {
  "kernelspec": {
   "display_name": "Python 3",
   "language": "python",
   "name": "python3"
  },
  "language_info": {
   "codemirror_mode": {
    "name": "ipython",
    "version": 3
   },
   "file_extension": ".py",
   "mimetype": "text/x-python",
   "name": "python",
   "nbconvert_exporter": "python",
   "pygments_lexer": "ipython3",
   "version": "3.9.1"
  },
  "orig_nbformat": 4
 },
 "nbformat": 4,
 "nbformat_minor": 2
}
