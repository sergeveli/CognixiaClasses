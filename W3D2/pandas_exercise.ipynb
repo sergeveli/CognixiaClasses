{
 "cells": [
  {
   "cell_type": "code",
   "execution_count": 25,
   "metadata": {},
   "outputs": [],
   "source": [
    "import pandas as pd\n",
    "import numpy as np\n",
    "\n",
    "# Define sample data for the series\n",
    "employee_id = np.arange(1001, 1011)\n",
    "employee_name = ['Twan', 'Gee', 'Mikey', 'Trey', 'Tenth',\n",
    "                 'Jish', 'JayMatic', 'Hendrix', 'Waka', 'Veli']\n",
    "employee_salary = [50000, 60000, 70000, 80000,\n",
    "                   90000, 100000, 110000, 120000, 130000, 140000]\n",
    "employee_department = ['Customer Support', 'IT', 'HR', 'Finance', 'Marketing',\n",
    "                       'Operations', 'Legal', 'Sales', 'Product', 'Engineering']\n",
    "employee_start_date = ['2022-01-01', '2022-02-01', '2022-03-01', '2022-04-01',\n",
    "                       '2022-05-01', '2022-06-01', '2022-07-01', '2022-08-01', \n",
    "                       '2022-09-01', '2022-10-01']\n",
    "currently_employed = [True, True, True,True, True, \n",
    "                      True, True, True, True, True]\n",
    "\n",
    "# Create the Pandas Series\n",
    "employee_id_series = pd.Series(employee_id, name='Employee ID')\n",
    "employee_name_series = pd.Series(\n",
    "    employee_name, name='Employee Name', index=employee_id)\n",
    "employee_salary_series = pd.Series(\n",
    "    employee_salary, name='Employee Salary', index=employee_id)\n",
    "employee_department_series = pd.Series(\n",
    "    employee_department, name='Employee Department', index=employee_id)\n",
    "employee_start_date_series = pd.to_datetime(\n",
    "    pd.Series(employee_start_date, name='Employee Start Date'), format='%Y-%m-%d')\n",
    "employee_start_date_series.index = employee_id\n",
    "currently_employed_series = pd.Series(\n",
    "    currently_employed, name='Currently Employed', index=employee_id)\n",
    "\n"
   ]
  },
  {
   "cell_type": "code",
   "execution_count": 26,
   "metadata": {},
   "outputs": [
    {
     "name": "stdout",
     "output_type": "stream",
     "text": [
      "            Employee Name  Employee Salary Employee Department  \\\n",
      "Employee ID                                                      \n",
      "1001                 Twan            50000    Customer Support   \n",
      "1002                  Gee            60000                  IT   \n",
      "1003                Mikey            70000                  HR   \n",
      "1004                 Trey            80000             Finance   \n",
      "1005                Tenth            90000           Marketing   \n",
      "1006                 Jish           100000          Operations   \n",
      "1007             JayMatic           110000               Legal   \n",
      "1008              Hendrix           120000               Sales   \n",
      "1009                 Waka           130000             Product   \n",
      "1010                 Veli           140000         Engineering   \n",
      "\n",
      "            Employee Start Date  Currently Employed  \n",
      "Employee ID                                          \n",
      "1001                 2022-01-01                True  \n",
      "1002                 2022-02-01                True  \n",
      "1003                 2022-03-01                True  \n",
      "1004                 2022-04-01                True  \n",
      "1005                 2022-05-01                True  \n",
      "1006                 2022-06-01                True  \n",
      "1007                 2022-07-01                True  \n",
      "1008                 2022-08-01                True  \n",
      "1009                 2022-09-01                True  \n",
      "1010                 2022-10-01                True  \n"
     ]
    }
   ],
   "source": [
    "# Combine all the Series into a DataFrame\n",
    "employee_df = pd.concat([employee_name_series, employee_salary_series, employee_department_series,\n",
    "                         employee_start_date_series, currently_employed_series], axis=1)\n",
    "employee_df.index.name = 'Employee ID'\n",
    "\n",
    "# Print the resulting DataFrame\n",
    "print(employee_df)\n"
   ]
  },
  {
   "cell_type": "code",
   "execution_count": 27,
   "metadata": {},
   "outputs": [
    {
     "name": "stdout",
     "output_type": "stream",
     "text": [
      "60000\n"
     ]
    }
   ],
   "source": [
    "#Print by salary\n",
    "salary = employee_df.loc[1002, 'Employee Salary']\n",
    "print(salary)\n"
   ]
  },
  {
   "cell_type": "code",
   "execution_count": 29,
   "metadata": {},
   "outputs": [
    {
     "name": "stdout",
     "output_type": "stream",
     "text": [
      "2022-03-01 00:00:00\n"
     ]
    }
   ],
   "source": [
    "# Select the start date of the employee with ID 1003\n",
    "employee_start_date = employee_df.at[1003, 'Employee Start Date']\n",
    "print(employee_start_date)"
   ]
  },
  {
   "cell_type": "code",
   "execution_count": 30,
   "metadata": {},
   "outputs": [
    {
     "name": "stdout",
     "output_type": "stream",
     "text": [
      "            Employee Name Employee Department\n",
      "Employee ID                                  \n",
      "1005                Tenth           Marketing\n",
      "1006                 Jish          Operations\n",
      "1007             JayMatic               Legal\n",
      "1008              Hendrix               Sales\n",
      "1009                 Waka             Product\n",
      "1010                 Veli         Engineering\n"
     ]
    }
   ],
   "source": [
    "# Select the employee name and department of all employees making over $80,000\n",
    "high_earners = employee_df[employee_df['Employee Salary']\n",
    "                           > 80000][['Employee Name', 'Employee Department']]\n",
    "print(high_earners)\n"
   ]
  },
  {
   "cell_type": "code",
   "execution_count": 31,
   "metadata": {},
   "outputs": [
    {
     "name": "stdout",
     "output_type": "stream",
     "text": [
      "            Employee Name Employee Start Date  Employee Salary  \\\n",
      "Employee ID                                                      \n",
      "1002                  Gee          2022-02-01            60000   \n",
      "1005                Tenth          2022-05-01            90000   \n",
      "1008              Hendrix          2022-08-01           120000   \n",
      "\n",
      "             Currently Employed  \n",
      "Employee ID                      \n",
      "1002                       True  \n",
      "1005                       True  \n",
      "1008                       True  \n"
     ]
    }
   ],
   "source": [
    "# Select the start date, salary, and currently employed status of the employees with IDs 1002, 1005, and 1008\n",
    "subset = employee_df.loc[[1002, 1005, 1008], [\n",
    "    'Employee Name', 'Employee Start Date', 'Employee Salary', 'Currently Employed']]\n",
    "print(subset)\n"
   ]
  },
  {
   "cell_type": "code",
   "execution_count": 32,
   "metadata": {},
   "outputs": [
    {
     "name": "stdout",
     "output_type": "stream",
     "text": [
      "            Employee Name  Employee Salary Employee Department  \\\n",
      "Employee ID                                                      \n",
      "1006                 Jish           100000          Operations   \n",
      "1007             JayMatic           110000               Legal   \n",
      "1008              Hendrix           120000               Sales   \n",
      "1009                 Waka           130000             Product   \n",
      "1010                 Veli           140000         Engineering   \n",
      "\n",
      "            Employee Start Date  Currently Employed  \n",
      "Employee ID                                          \n",
      "1006                 2022-06-01                True  \n",
      "1007                 2022-07-01                True  \n",
      "1008                 2022-08-01                True  \n",
      "1009                 2022-09-01                True  \n",
      "1010                 2022-10-01                True  \n"
     ]
    }
   ],
   "source": [
    "recent_hires = employee_df[employee_df['Employee Start Date'] > '2022-05-01']\n",
    "print(recent_hires)\n"
   ]
  }
 ],
 "metadata": {
  "kernelspec": {
   "display_name": "base",
   "language": "python",
   "name": "python3"
  },
  "language_info": {
   "codemirror_mode": {
    "name": "ipython",
    "version": 3
   },
   "file_extension": ".py",
   "mimetype": "text/x-python",
   "name": "python",
   "nbconvert_exporter": "python",
   "pygments_lexer": "ipython3",
   "version": "3.10.9"
  },
  "orig_nbformat": 4
 },
 "nbformat": 4,
 "nbformat_minor": 2
}
