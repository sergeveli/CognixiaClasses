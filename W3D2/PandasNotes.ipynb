{
  "nbformat": 4,
  "nbformat_minor": 0,
  "metadata": {
    "colab": {
      "provenance": []
    },
    "kernelspec": {
      "name": "python3",
      "display_name": "Python 3"
    },
    "language_info": {
      "name": "python"
    }
  },
  "cells": [
    {
      "cell_type": "code",
      "execution_count": 2,
      "metadata": {
        "id": "l68HIa3dub2C"
      },
      "outputs": [],
      "source": [
        "import numpy as np\n",
        "import pandas as pd\n",
        "import matplotlib.pyplot as plt\n",
        "import seaborn as sns"
      ]
    },
    {
      "cell_type": "code",
      "source": [
        "names = (\"Fido\", \"Rex\", \"Whiskers\", \"Tom\", \"Goldie\", \"Polly\", \"Dragon\")\n",
        "pets = [\"dog\", \"dog\", \"cat\", \"cat\", \"fish\", \"bird\", \"lizard\"]\n",
        "ages = [2, 3, 1, 4, 1, 20, 3]\n",
        "\n",
        "names_series = pd.Series(names)\n",
        "print(names_series)\n",
        "print(\"-----\")\n",
        "pets_series = pd.Series(pets)\n",
        "print(pets_series)\n",
        "print(\"-----\")\n",
        "ages_series = pd.Series(ages)\n",
        "print(ages_series)"
      ],
      "metadata": {
        "colab": {
          "base_uri": "https://localhost:8080/"
        },
        "id": "V_Nc12Xbutlu",
        "outputId": "6394e03c-020f-40c3-ba19-6eee08f772cd"
      },
      "execution_count": 6,
      "outputs": [
        {
          "output_type": "stream",
          "name": "stdout",
          "text": [
            "0        Fido\n",
            "1         Rex\n",
            "2    Whiskers\n",
            "3         Tom\n",
            "4      Goldie\n",
            "5       Polly\n",
            "6      Dragon\n",
            "dtype: object\n",
            "-----\n",
            "0       dog\n",
            "1       dog\n",
            "2       cat\n",
            "3       cat\n",
            "4      fish\n",
            "5      bird\n",
            "6    lizard\n",
            "dtype: object\n",
            "-----\n",
            "0     2\n",
            "1     3\n",
            "2     1\n",
            "3     4\n",
            "4     1\n",
            "5    20\n",
            "6     3\n",
            "dtype: int64\n"
          ]
        }
      ]
    },
    {
      "cell_type": "code",
      "source": [
        "pets_series.values"
      ],
      "metadata": {
        "colab": {
          "base_uri": "https://localhost:8080/"
        },
        "id": "JA4T9HlzxvRM",
        "outputId": "ab00b683-3bc4-4396-a3be-5fb6bdabb6d2"
      },
      "execution_count": 7,
      "outputs": [
        {
          "output_type": "execute_result",
          "data": {
            "text/plain": [
              "array(['dog', 'dog', 'cat', 'cat', 'fish', 'bird', 'lizard'], dtype=object)"
            ]
          },
          "metadata": {},
          "execution_count": 7
        }
      ]
    },
    {
      "cell_type": "code",
      "source": [
        "pets_series.dtype"
      ],
      "metadata": {
        "colab": {
          "base_uri": "https://localhost:8080/"
        },
        "id": "NQDwruw6x4O6",
        "outputId": "a81f5c1e-2eee-4004-f50d-3e5650e6ea7b"
      },
      "execution_count": 8,
      "outputs": [
        {
          "output_type": "execute_result",
          "data": {
            "text/plain": [
              "dtype('O')"
            ]
          },
          "metadata": {},
          "execution_count": 8
        }
      ]
    },
    {
      "cell_type": "code",
      "source": [
        "ages_series.dtype"
      ],
      "metadata": {
        "colab": {
          "base_uri": "https://localhost:8080/"
        },
        "id": "IMz6EkJxx-Nr",
        "outputId": "d768130a-4070-43e5-8210-1dc702aef078"
      },
      "execution_count": 9,
      "outputs": [
        {
          "output_type": "execute_result",
          "data": {
            "text/plain": [
              "dtype('int64')"
            ]
          },
          "metadata": {},
          "execution_count": 9
        }
      ]
    },
    {
      "cell_type": "code",
      "source": [
        "ages_series.astype('float64')"
      ],
      "metadata": {
        "colab": {
          "base_uri": "https://localhost:8080/"
        },
        "id": "mE8KSG8vyF_W",
        "outputId": "d32d078e-653a-4af6-cb39-1a0927c3dc75"
      },
      "execution_count": 10,
      "outputs": [
        {
          "output_type": "execute_result",
          "data": {
            "text/plain": [
              "0     2.0\n",
              "1     3.0\n",
              "2     1.0\n",
              "3     4.0\n",
              "4     1.0\n",
              "5    20.0\n",
              "6     3.0\n",
              "dtype: float64"
            ]
          },
          "metadata": {},
          "execution_count": 10
        }
      ]
    },
    {
      "cell_type": "code",
      "source": [
        "ages_series.astype(str)"
      ],
      "metadata": {
        "colab": {
          "base_uri": "https://localhost:8080/"
        },
        "id": "TFP-aQveyMO9",
        "outputId": "7422b05b-e4b0-4b1e-bb2f-302b67ced8f4"
      },
      "execution_count": 11,
      "outputs": [
        {
          "output_type": "execute_result",
          "data": {
            "text/plain": [
              "0     2\n",
              "1     3\n",
              "2     1\n",
              "3     4\n",
              "4     1\n",
              "5    20\n",
              "6     3\n",
              "dtype: object"
            ]
          },
          "metadata": {},
          "execution_count": 11
        }
      ]
    },
    {
      "cell_type": "code",
      "source": [
        "print(pets_series.index)"
      ],
      "metadata": {
        "colab": {
          "base_uri": "https://localhost:8080/"
        },
        "id": "5BrPUMCiybE8",
        "outputId": "948bd903-9868-425e-ef06-d263a944b666"
      },
      "execution_count": 12,
      "outputs": [
        {
          "output_type": "stream",
          "name": "stdout",
          "text": [
            "RangeIndex(start=0, stop=7, step=1)\n"
          ]
        }
      ]
    },
    {
      "cell_type": "code",
      "source": [
        "pets_series[2]"
      ],
      "metadata": {
        "colab": {
          "base_uri": "https://localhost:8080/",
          "height": 35
        },
        "id": "wgLh1Gzcyhih",
        "outputId": "b05382cd-d8ba-4dc4-f490-c3c2b6c8147b"
      },
      "execution_count": 13,
      "outputs": [
        {
          "output_type": "execute_result",
          "data": {
            "text/plain": [
              "'cat'"
            ],
            "application/vnd.google.colaboratory.intrinsic+json": {
              "type": "string"
            }
          },
          "metadata": {},
          "execution_count": 13
        }
      ]
    },
    {
      "cell_type": "code",
      "source": [
        "pets_series.index = names_series\n",
        "\n",
        "ages_series = pd.Series(ages, index=names_series)\n",
        "\n",
        "print(pets_series)\n",
        "print(\"-------\")\n",
        "print(ages_series)"
      ],
      "metadata": {
        "colab": {
          "base_uri": "https://localhost:8080/"
        },
        "id": "CR5bbGKFym7Y",
        "outputId": "11031ece-d60b-47e4-badc-2967f70594a4"
      },
      "execution_count": 14,
      "outputs": [
        {
          "output_type": "stream",
          "name": "stdout",
          "text": [
            "Fido           dog\n",
            "Rex            dog\n",
            "Whiskers       cat\n",
            "Tom            cat\n",
            "Goldie        fish\n",
            "Polly         bird\n",
            "Dragon      lizard\n",
            "dtype: object\n",
            "-------\n",
            "Fido         2\n",
            "Rex          3\n",
            "Whiskers     1\n",
            "Tom          4\n",
            "Goldie       1\n",
            "Polly       20\n",
            "Dragon       3\n",
            "dtype: int64\n"
          ]
        }
      ]
    },
    {
      "cell_type": "code",
      "source": [
        "ages_series.size"
      ],
      "metadata": {
        "colab": {
          "base_uri": "https://localhost:8080/"
        },
        "id": "wMUBlUXgzSek",
        "outputId": "f984cb21-812a-41d5-eba2-b64ed9159d5b"
      },
      "execution_count": 15,
      "outputs": [
        {
          "output_type": "execute_result",
          "data": {
            "text/plain": [
              "7"
            ]
          },
          "metadata": {},
          "execution_count": 15
        }
      ]
    },
    {
      "cell_type": "code",
      "source": [
        "nans_series = pd.Series([1, 2, 3, \"four\", 5])\n",
        "nans_series.hasnans"
      ],
      "metadata": {
        "colab": {
          "base_uri": "https://localhost:8080/"
        },
        "id": "LvWf-RulzpWC",
        "outputId": "400db40f-4eda-4542-84f9-1885a4c00f9d"
      },
      "execution_count": 17,
      "outputs": [
        {
          "output_type": "execute_result",
          "data": {
            "text/plain": [
              "False"
            ]
          },
          "metadata": {},
          "execution_count": 17
        }
      ]
    },
    {
      "cell_type": "code",
      "source": [
        "pets_series.iloc[0]"
      ],
      "metadata": {
        "colab": {
          "base_uri": "https://localhost:8080/",
          "height": 35
        },
        "id": "Y7f6SAxj1Uaj",
        "outputId": "f08ed2bb-e983-45dd-ab73-6e1d4e21f214"
      },
      "execution_count": 21,
      "outputs": [
        {
          "output_type": "execute_result",
          "data": {
            "text/plain": [
              "'dog'"
            ],
            "application/vnd.google.colaboratory.intrinsic+json": {
              "type": "string"
            }
          },
          "metadata": {},
          "execution_count": 21
        }
      ]
    },
    {
      "cell_type": "code",
      "source": [
        "ages_series.loc[\"Polly\"]"
      ],
      "metadata": {
        "colab": {
          "base_uri": "https://localhost:8080/"
        },
        "id": "yz6uFUTi1uCi",
        "outputId": "067278cb-0cb6-4a20-9eca-d81ce680b6d3"
      },
      "execution_count": 24,
      "outputs": [
        {
          "output_type": "execute_result",
          "data": {
            "text/plain": [
              "20"
            ]
          },
          "metadata": {},
          "execution_count": 24
        }
      ]
    },
    {
      "cell_type": "code",
      "source": [
        "ages_series.index"
      ],
      "metadata": {
        "colab": {
          "base_uri": "https://localhost:8080/"
        },
        "id": "MNw4DJ6Q15n4",
        "outputId": "d161158d-c96d-4a2c-ac14-6ced0e2dfc74"
      },
      "execution_count": 25,
      "outputs": [
        {
          "output_type": "execute_result",
          "data": {
            "text/plain": [
              "Index(['Fido', 'Rex', 'Whiskers', 'Tom', 'Goldie', 'Polly', 'Dragon'], dtype='object')"
            ]
          },
          "metadata": {},
          "execution_count": 25
        }
      ]
    },
    {
      "cell_type": "code",
      "source": [
        "pets_series[[\"Dragon\", \"Goldie\"]]"
      ],
      "metadata": {
        "colab": {
          "base_uri": "https://localhost:8080/"
        },
        "id": "bAy7JpFG2ELG",
        "outputId": "fceb79e1-eae6-44d9-b617-2ca74326e085"
      },
      "execution_count": 27,
      "outputs": [
        {
          "output_type": "execute_result",
          "data": {
            "text/plain": [
              "Dragon    lizard\n",
              "Goldie      fish\n",
              "dtype: object"
            ]
          },
          "metadata": {},
          "execution_count": 27
        }
      ]
    },
    {
      "cell_type": "code",
      "source": [
        "pets_series[\"Rocky\"] = \"rock\"\n",
        "pets_series"
      ],
      "metadata": {
        "colab": {
          "base_uri": "https://localhost:8080/"
        },
        "id": "6eqRek2t2UQy",
        "outputId": "12650cf3-7fe0-441f-a4ef-b00ba3cb0bd0"
      },
      "execution_count": 28,
      "outputs": [
        {
          "output_type": "execute_result",
          "data": {
            "text/plain": [
              "Fido           dog\n",
              "Rex            dog\n",
              "Whiskers       cat\n",
              "Tom            cat\n",
              "Goldie        fish\n",
              "Polly         bird\n",
              "Dragon      lizard\n",
              "Rocky         rock\n",
              "dtype: object"
            ]
          },
          "metadata": {},
          "execution_count": 28
        }
      ]
    },
    {
      "cell_type": "code",
      "source": [
        "ages_series[\"Rocky\"] = np.nan\n",
        "ages_series"
      ],
      "metadata": {
        "colab": {
          "base_uri": "https://localhost:8080/"
        },
        "id": "I3su93kD2eCk",
        "outputId": "ef7682ef-bda2-41cf-a169-a09c9dccf540"
      },
      "execution_count": 29,
      "outputs": [
        {
          "output_type": "execute_result",
          "data": {
            "text/plain": [
              "Fido         2.0\n",
              "Rex          3.0\n",
              "Whiskers     1.0\n",
              "Tom          4.0\n",
              "Goldie       1.0\n",
              "Polly       20.0\n",
              "Dragon       3.0\n",
              "Rocky        NaN\n",
              "dtype: float64"
            ]
          },
          "metadata": {},
          "execution_count": 29
        }
      ]
    },
    {
      "cell_type": "code",
      "source": [
        "pets_series == 'dog'"
      ],
      "metadata": {
        "colab": {
          "base_uri": "https://localhost:8080/"
        },
        "id": "Pq45lNYV2nu-",
        "outputId": "837b8e2a-cd37-4367-e4e2-43f95c00198b"
      },
      "execution_count": 30,
      "outputs": [
        {
          "output_type": "execute_result",
          "data": {
            "text/plain": [
              "Fido         True\n",
              "Rex          True\n",
              "Whiskers    False\n",
              "Tom         False\n",
              "Goldie      False\n",
              "Polly       False\n",
              "Dragon      False\n",
              "Rocky       False\n",
              "dtype: bool"
            ]
          },
          "metadata": {},
          "execution_count": 30
        }
      ]
    },
    {
      "cell_type": "code",
      "source": [
        "ages_series <= 2"
      ],
      "metadata": {
        "colab": {
          "base_uri": "https://localhost:8080/"
        },
        "id": "0eKFa5zS2ySI",
        "outputId": "9f912736-09de-4b40-c813-5f3a3f283de6"
      },
      "execution_count": 31,
      "outputs": [
        {
          "output_type": "execute_result",
          "data": {
            "text/plain": [
              "Fido         True\n",
              "Rex         False\n",
              "Whiskers     True\n",
              "Tom         False\n",
              "Goldie       True\n",
              "Polly       False\n",
              "Dragon      False\n",
              "Rocky       False\n",
              "dtype: bool"
            ]
          },
          "metadata": {},
          "execution_count": 31
        }
      ]
    },
    {
      "cell_type": "code",
      "source": [
        "(ages_series <= 2) & (ages_series >= 5)"
      ],
      "metadata": {
        "colab": {
          "base_uri": "https://localhost:8080/"
        },
        "id": "ytmnmpPU21fx",
        "outputId": "f8273f6d-c6b3-4844-d6fd-21782f166505"
      },
      "execution_count": 35,
      "outputs": [
        {
          "output_type": "execute_result",
          "data": {
            "text/plain": [
              "Fido        False\n",
              "Rex         False\n",
              "Whiskers    False\n",
              "Tom         False\n",
              "Goldie      False\n",
              "Polly       False\n",
              "Dragon      False\n",
              "Rocky       False\n",
              "dtype: bool"
            ]
          },
          "metadata": {},
          "execution_count": 35
        }
      ]
    },
    {
      "cell_type": "code",
      "source": [
        "(pets_series == \"bird\") | (pets_series == \"lizard\")"
      ],
      "metadata": {
        "colab": {
          "base_uri": "https://localhost:8080/"
        },
        "id": "hKYutfrG3GDf",
        "outputId": "40371452-898f-4c91-b782-ea38df6922a7"
      },
      "execution_count": 33,
      "outputs": [
        {
          "output_type": "execute_result",
          "data": {
            "text/plain": [
              "Fido        False\n",
              "Rex         False\n",
              "Whiskers    False\n",
              "Tom         False\n",
              "Goldie      False\n",
              "Polly        True\n",
              "Dragon       True\n",
              "Rocky       False\n",
              "dtype: bool"
            ]
          },
          "metadata": {},
          "execution_count": 33
        }
      ]
    },
    {
      "cell_type": "code",
      "source": [
        "ages_series[ages_series <= 2]"
      ],
      "metadata": {
        "colab": {
          "base_uri": "https://localhost:8080/"
        },
        "id": "EPi2u16L3Ufe",
        "outputId": "6a2ce16d-c0da-407a-d271-be5c846f6d8e"
      },
      "execution_count": 36,
      "outputs": [
        {
          "output_type": "execute_result",
          "data": {
            "text/plain": [
              "Fido        2.0\n",
              "Whiskers    1.0\n",
              "Goldie      1.0\n",
              "dtype: float64"
            ]
          },
          "metadata": {},
          "execution_count": 36
        }
      ]
    },
    {
      "cell_type": "code",
      "source": [
        "print(pets_series[pets_series == \"dog\"])\n",
        "print(\"-----\")\n",
        "print(pets_series[(pets_series == \"dog\") | (pets_series == \"cat\")])"
      ],
      "metadata": {
        "colab": {
          "base_uri": "https://localhost:8080/"
        },
        "id": "PFpmvf4O3geq",
        "outputId": "30f6f0eb-4950-4653-b9ab-6b9e51591699"
      },
      "execution_count": 38,
      "outputs": [
        {
          "output_type": "stream",
          "name": "stdout",
          "text": [
            "Fido    dog\n",
            "Rex     dog\n",
            "dtype: object\n",
            "-----\n",
            "Fido        dog\n",
            "Rex         dog\n",
            "Whiskers    cat\n",
            "Tom         cat\n",
            "dtype: object\n"
          ]
        }
      ]
    },
    {
      "cell_type": "code",
      "source": [
        "pets_series[1:5]"
      ],
      "metadata": {
        "colab": {
          "base_uri": "https://localhost:8080/"
        },
        "id": "9h3y73eC37O6",
        "outputId": "d8f28e09-37a7-4c4c-c9e3-499ca74dfd48"
      },
      "execution_count": 39,
      "outputs": [
        {
          "output_type": "execute_result",
          "data": {
            "text/plain": [
              "Rex          dog\n",
              "Whiskers     cat\n",
              "Tom          cat\n",
              "Goldie      fish\n",
              "dtype: object"
            ]
          },
          "metadata": {},
          "execution_count": 39
        }
      ]
    },
    {
      "cell_type": "code",
      "source": [
        "ages_series.sort_values()\n"
      ],
      "metadata": {
        "colab": {
          "base_uri": "https://localhost:8080/"
        },
        "id": "iOpDEjTz4Slb",
        "outputId": "0df6e9d3-9b0d-40de-d5ca-a13587d5d8e4"
      },
      "execution_count": 48,
      "outputs": [
        {
          "output_type": "execute_result",
          "data": {
            "text/plain": [
              "Whiskers     1.0\n",
              "Goldie       1.0\n",
              "Fido         2.0\n",
              "Rex          3.0\n",
              "Dragon       3.0\n",
              "Tom          4.0\n",
              "Polly       20.0\n",
              "Rocky        NaN\n",
              "dtype: float64"
            ]
          },
          "metadata": {},
          "execution_count": 48
        }
      ]
    },
    {
      "cell_type": "code",
      "source": [
        "ages_series.dropna()"
      ],
      "metadata": {
        "colab": {
          "base_uri": "https://localhost:8080/"
        },
        "id": "rcODQPFL43oE",
        "outputId": "c5dea390-7d5a-4775-9f52-8e8fb791f080"
      },
      "execution_count": 44,
      "outputs": [
        {
          "output_type": "execute_result",
          "data": {
            "text/plain": [
              "Polly       20.0\n",
              "Tom          4.0\n",
              "Rex          3.0\n",
              "Dragon       3.0\n",
              "Fido         2.0\n",
              "Whiskers     1.0\n",
              "Goldie       1.0\n",
              "dtype: float64"
            ]
          },
          "metadata": {},
          "execution_count": 44
        }
      ]
    },
    {
      "cell_type": "code",
      "source": [
        "ages_series.dropna().sort_values()[:3:-1]"
      ],
      "metadata": {
        "colab": {
          "base_uri": "https://localhost:8080/"
        },
        "id": "N_u8O4KM5AN_",
        "outputId": "3e6501ad-1589-4988-97ec-cf77164c29b4"
      },
      "execution_count": 47,
      "outputs": [
        {
          "output_type": "execute_result",
          "data": {
            "text/plain": [
              "Polly     20.0\n",
              "Tom        4.0\n",
              "Dragon     3.0\n",
              "Rex        3.0\n",
              "dtype: float64"
            ]
          },
          "metadata": {},
          "execution_count": 47
        }
      ]
    },
    {
      "cell_type": "code",
      "source": [
        "pets_series.str.upper()"
      ],
      "metadata": {
        "colab": {
          "base_uri": "https://localhost:8080/"
        },
        "id": "LrGpgMtZ6Bl2",
        "outputId": "ab83eeb0-5e73-4571-d036-0234e0e71bb7"
      },
      "execution_count": 51,
      "outputs": [
        {
          "output_type": "execute_result",
          "data": {
            "text/plain": [
              "Fido           DOG\n",
              "Rex            DOG\n",
              "Whiskers       CAT\n",
              "Tom            CAT\n",
              "Goldie        FISH\n",
              "Polly         BIRD\n",
              "Dragon      LIZARD\n",
              "Rocky         ROCK\n",
              "dtype: object"
            ]
          },
          "metadata": {},
          "execution_count": 51
        }
      ]
    },
    {
      "cell_type": "code",
      "source": [
        "pets_series.unique()"
      ],
      "metadata": {
        "colab": {
          "base_uri": "https://localhost:8080/"
        },
        "id": "0MIl0qMY6P8a",
        "outputId": "10eeba85-5fc4-4a3b-b184-1977b7bdd2a1"
      },
      "execution_count": 52,
      "outputs": [
        {
          "output_type": "execute_result",
          "data": {
            "text/plain": [
              "array(['dog', 'cat', 'fish', 'bird', 'lizard', 'rock'], dtype=object)"
            ]
          },
          "metadata": {},
          "execution_count": 52
        }
      ]
    },
    {
      "cell_type": "code",
      "source": [
        "pets_series.groupby(by=pets_series)"
      ],
      "metadata": {
        "colab": {
          "base_uri": "https://localhost:8080/"
        },
        "id": "iq9UkYZf6WaK",
        "outputId": "97ad3bea-e867-408d-8606-cd7a38280579"
      },
      "execution_count": 53,
      "outputs": [
        {
          "output_type": "execute_result",
          "data": {
            "text/plain": [
              "<pandas.core.groupby.generic.SeriesGroupBy object at 0x7f3175af51f0>"
            ]
          },
          "metadata": {},
          "execution_count": 53
        }
      ]
    },
    {
      "cell_type": "code",
      "source": [
        "pets_series.groupby(by=pets_series).count()"
      ],
      "metadata": {
        "colab": {
          "base_uri": "https://localhost:8080/"
        },
        "id": "lmtUAMH77A3O",
        "outputId": "97142ec3-1d4d-44f2-d931-069526ef72a1"
      },
      "execution_count": 62,
      "outputs": [
        {
          "output_type": "execute_result",
          "data": {
            "text/plain": [
              "bird      1\n",
              "cat       2\n",
              "dog       2\n",
              "fish      1\n",
              "lizard    1\n",
              "rock      1\n",
              "dtype: int64"
            ]
          },
          "metadata": {},
          "execution_count": 62
        }
      ]
    },
    {
      "cell_type": "code",
      "source": [
        "pets_series.count()"
      ],
      "metadata": {
        "colab": {
          "base_uri": "https://localhost:8080/"
        },
        "id": "CRv4fZOx7euF",
        "outputId": "6d8ccb57-b1b4-4841-970f-ef1de403940c"
      },
      "execution_count": 55,
      "outputs": [
        {
          "output_type": "execute_result",
          "data": {
            "text/plain": [
              "8"
            ]
          },
          "metadata": {},
          "execution_count": 55
        }
      ]
    },
    {
      "cell_type": "code",
      "source": [
        "print(ages_series.mean())"
      ],
      "metadata": {
        "colab": {
          "base_uri": "https://localhost:8080/"
        },
        "id": "sT4dt0TQ7mhB",
        "outputId": "6d03012a-f4db-464c-a517-acf391f7b965"
      },
      "execution_count": 56,
      "outputs": [
        {
          "output_type": "stream",
          "name": "stdout",
          "text": [
            "4.857142857142857\n"
          ]
        }
      ]
    },
    {
      "cell_type": "code",
      "source": [
        "print(ages_series.max())"
      ],
      "metadata": {
        "colab": {
          "base_uri": "https://localhost:8080/"
        },
        "id": "kG63-uyD7rUE",
        "outputId": "abd19a05-369b-4fa5-fa87-a79d2d1de477"
      },
      "execution_count": 57,
      "outputs": [
        {
          "output_type": "stream",
          "name": "stdout",
          "text": [
            "20.0\n"
          ]
        }
      ]
    },
    {
      "cell_type": "code",
      "source": [
        "print(ages_series.min())"
      ],
      "metadata": {
        "colab": {
          "base_uri": "https://localhost:8080/"
        },
        "id": "eqxrY-zu7vUy",
        "outputId": "baa47a50-5456-4fd6-9086-38af90af1778"
      },
      "execution_count": 58,
      "outputs": [
        {
          "output_type": "stream",
          "name": "stdout",
          "text": [
            "1.0\n"
          ]
        }
      ]
    },
    {
      "cell_type": "code",
      "source": [
        "pets_series.drop(['Rocky'])"
      ],
      "metadata": {
        "colab": {
          "base_uri": "https://localhost:8080/"
        },
        "id": "Eu5_s_Se8Tgi",
        "outputId": "1b461024-816f-48cf-b2eb-e541584f8fe7"
      },
      "execution_count": 66,
      "outputs": [
        {
          "output_type": "execute_result",
          "data": {
            "text/plain": [
              "Fido           dog\n",
              "Rex            dog\n",
              "Whiskers       cat\n",
              "Tom            cat\n",
              "Goldie        fish\n",
              "Polly         bird\n",
              "Dragon      lizard\n",
              "Rocky         rock\n",
              "dtype: object"
            ]
          },
          "metadata": {},
          "execution_count": 66
        }
      ]
    },
    {
      "cell_type": "code",
      "source": [],
      "metadata": {
        "id": "xmqPKZQW81dK"
      },
      "execution_count": null,
      "outputs": []
    }
  ]
}