{
 "cells": [
  {
   "cell_type": "code",
   "execution_count": 8,
   "metadata": {},
   "outputs": [
    {
     "name": "stdout",
     "output_type": "stream",
     "text": [
      "Invalid input. Please enter a valid integer.\n",
      "You entered the number 9.\n"
     ]
    }
   ],
   "source": [
    "def get_integer_input(prompt, minimum=None, maximum=None):\n",
    "    \"\"\"\n",
    "    Get user input for an integer value with optional range checking.\n",
    "    :param prompt: The message to display to the user as a prompt.\n",
    "    :param minimum: The minimum allowable value (optional).\n",
    "    :param maximum: The maximum allowable value (optional).\n",
    "    :return: The integer value entered by the user.\n",
    "    \"\"\"\n",
    "    while True:\n",
    "        try:\n",
    "            value = int(input(prompt))\n",
    "            if minimum is not None and value < minimum:\n",
    "                print(f\"Input must be at least {minimum}.\")\n",
    "                continue\n",
    "            if maximum is not None and value > maximum:\n",
    "                print(f\"Input cannot be greater than {maximum}.\")\n",
    "                continue\n",
    "            return value\n",
    "        except ValueError:\n",
    "            print(\"Invalid input. Please enter a valid integer.\")\n",
    "            \n",
    "\n",
    "# Ask the user to input a number between 1 and 10.\n",
    "number = get_integer_input(\n",
    "    \"Enter a number between 1 and 13: \", minimum=1, maximum=13)\n",
    "print(f\"You entered the number {number}.\")"
   ]
  }
 ],
 "metadata": {
  "kernelspec": {
   "display_name": "Python 3",
   "language": "python",
   "name": "python3"
  },
  "language_info": {
   "codemirror_mode": {
    "name": "ipython",
    "version": 3
   },
   "file_extension": ".py",
   "mimetype": "text/x-python",
   "name": "python",
   "nbconvert_exporter": "python",
   "pygments_lexer": "ipython3",
   "version": "3.9.1"
  },
  "orig_nbformat": 4
 },
 "nbformat": 4,
 "nbformat_minor": 2
}
