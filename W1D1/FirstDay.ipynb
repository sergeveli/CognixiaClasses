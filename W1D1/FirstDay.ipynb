{
 "cells": [
  {
   "cell_type": "code",
   "execution_count": 3,
   "metadata": {},
   "outputs": [
    {
     "name": "stdout",
     "output_type": "stream",
     "text": [
      "Employee Name: Serge Kassangana\n",
      "Employee Age: 32\n",
      "Employee Birth Year: 1991\n",
      "Employee Email: serge.kassangana91@company.com\n"
     ]
    }
   ],
   "source": [
    "name = input(\"Enter Employee's full name: \")\n",
    "age = input(\"Enter Employee's age: \")\n",
    "\n",
    "# Split the name into first and last, capitalize the first letter of both, and lowercase the rest of the letters\n",
    "first_name, last_name = name.split()\n",
    "first_name = first_name.capitalize()\n",
    "last_name = last_name.capitalize()\n",
    "\n",
    "# Parse the age information to an int and calculate the birth year\n",
    "age = int(age)\n",
    "birth_year = 2023 - age\n",
    "\n",
    "# Generate the email address\n",
    "email = f'{first_name.lower()}.{last_name.lower()}{str(birth_year)[-2:]}@company.com'\n",
    "\n",
    "# Print the results\n",
    "print('Employee Name:', first_name, last_name)\n",
    "print('Employee Age:', age)\n",
    "print('Employee Birth Year:', birth_year)\n",
    "print('Employee Email:', email)\n"
   ]
  }
 ],
 "metadata": {
  "kernelspec": {
   "display_name": "Python 3",
   "language": "python",
   "name": "python3"
  },
  "language_info": {
   "codemirror_mode": {
    "name": "ipython",
    "version": 3
   },
   "file_extension": ".py",
   "mimetype": "text/x-python",
   "name": "python",
   "nbconvert_exporter": "python",
   "pygments_lexer": "ipython3",
   "version": "3.9.1"
  },
  "orig_nbformat": 4
 },
 "nbformat": 4,
 "nbformat_minor": 2
}
