{
 "cells": [
  {
   "cell_type": "code",
   "execution_count": 1,
   "metadata": {},
   "outputs": [
    {
     "name": "stdout",
     "output_type": "stream",
     "text": [
      "Let's play Rock-Paper-Scissors!\n",
      "Player 2 chose r\n",
      "It's a tie!\n"
     ]
    }
   ],
   "source": [
    "import random\n",
    "\n",
    "# function to get user input\n",
    "\n",
    "\n",
    "def get_user_choice():\n",
    "    user_choice = input(\n",
    "        \"Enter 'r' for rock, 'p' for paper, or 's' for scissors: \")\n",
    "    while user_choice not in ['r', 'p', 's']:\n",
    "        print(\"Invalid input. Please try again.\")\n",
    "        user_choice = input(\n",
    "            \"Enter 'r' for rock, 'p' for paper, or 's' for scissors: \")\n",
    "    return user_choice\n",
    "\n",
    "# function to determine winner\n",
    "\n",
    "\n",
    "def get_winner(player1, player2):\n",
    "    if player1 == player2:\n",
    "        return None\n",
    "    elif (\n",
    "        player1 == 'r'\n",
    "        and player2 == 's'\n",
    "        or player1 == 'p'\n",
    "        and player2 == 'r'\n",
    "        or player1 == 's'\n",
    "        and player2 == 'p'\n",
    "    ):\n",
    "        return \"Player 1 wins!\"\n",
    "    else:\n",
    "        return \"Player 2 wins!\"\n",
    "\n",
    "# main function to run the game\n",
    "\n",
    "\n",
    "def play_game():\n",
    "    print(\"Let's play Rock-Paper-Scissors!\")\n",
    "    player1 = get_user_choice()\n",
    "    player2 = random.choice(['r', 'p', 's'])\n",
    "    print(\"Player 2 chose\", player2)\n",
    "    if result := get_winner(player1, player2):\n",
    "        print(result)\n",
    "    else:\n",
    "        print(\"It's a tie!\")\n",
    "\n",
    "\n",
    "# call the main function to start the game\n",
    "play_game()\n"
   ]
  }
 ],
 "metadata": {
  "kernelspec": {
   "display_name": "Python 3",
   "language": "python",
   "name": "python3"
  },
  "language_info": {
   "codemirror_mode": {
    "name": "ipython",
    "version": 3
   },
   "file_extension": ".py",
   "mimetype": "text/x-python",
   "name": "python",
   "nbconvert_exporter": "python",
   "pygments_lexer": "ipython3",
   "version": "3.9.1"
  },
  "orig_nbformat": 4
 },
 "nbformat": 4,
 "nbformat_minor": 2
}
